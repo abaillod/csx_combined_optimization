{
 "cells": [
  {
   "cell_type": "markdown",
   "id": "603bbae1-f701-4149-9899-e4c0abc86b16",
   "metadata": {},
   "source": [
    "# Plot combined approach results\n",
    "\n",
    "Notebook to plot and explore results from the combined VMEC + simsopt optimization "
   ]
  },
  {
   "cell_type": "code",
   "execution_count": 1,
   "id": "5f021788-dd15-40c2-b68f-8bfc7226b8fa",
   "metadata": {},
   "outputs": [],
   "source": [
    "import os\n",
    "from pathlib import Path\n",
    "from simsopt._core.optimizable import load\n",
    "import matplotlib.pyplot as plt\n",
    "import numpy as np\n",
    "from simsopt.geo import SurfaceRZFourier\n",
    "from simsopt.mhd import Vmec, QuasisymmetryRatioResidual\n",
    "from simsopt.field import compute_fieldlines, LevelsetStoppingCriterion, SurfaceClassifier, plot_poincare_data\n",
    "%matplotlib widget\n",
    "import pickle"
   ]
  },
  {
   "cell_type": "code",
   "execution_count": 2,
   "id": "43076f75-c7c1-4f89-b957-b1216fb21297",
   "metadata": {},
   "outputs": [
    {
     "ename": "FileNotFoundError",
     "evalue": "[Errno 2] No such file or directory: './runs/2023-10-18T22:51:12/coils/bs_output.json'",
     "output_type": "error",
     "traceback": [
      "\u001b[0;31m---------------------------------------------------------------------------\u001b[0m",
      "\u001b[0;31mFileNotFoundError\u001b[0m                         Traceback (most recent call last)",
      "Cell \u001b[0;32mIn[2], line 16\u001b[0m\n\u001b[1;32m     14\u001b[0m initial_vmec \u001b[38;5;241m=\u001b[39m Vmec( \u001b[38;5;124m'\u001b[39m\u001b[38;5;124mwout_CSSCscaled3.nc\u001b[39m\u001b[38;5;124m'\u001b[39m ) \n\u001b[1;32m     15\u001b[0m initial_bs \u001b[38;5;241m=\u001b[39m load( \u001b[38;5;124m'\u001b[39m\u001b[38;5;124mflux_100_bs_cssc_cssc.json\u001b[39m\u001b[38;5;124m'\u001b[39m )\n\u001b[0;32m---> 16\u001b[0m bs \u001b[38;5;241m=\u001b[39m \u001b[43mload\u001b[49m\u001b[43m(\u001b[49m\u001b[43mos\u001b[49m\u001b[38;5;241;43m.\u001b[39;49m\u001b[43mpath\u001b[49m\u001b[38;5;241;43m.\u001b[39;49m\u001b[43mjoin\u001b[49m\u001b[43m(\u001b[49m\u001b[43mthis_path\u001b[49m\u001b[43m,\u001b[49m\u001b[38;5;124;43m\"\u001b[39;49m\u001b[38;5;124;43mcoils/bs_output.json\u001b[39;49m\u001b[38;5;124;43m\"\u001b[39;49m\u001b[43m)\u001b[49m\u001b[43m)\u001b[49m\n",
      "File \u001b[0;32m~/Github/simsopt/src/simsopt/_core/optimizable.py:1630\u001b[0m, in \u001b[0;36mload\u001b[0;34m(filename, *args, **kwargs)\u001b[0m\n\u001b[1;32m   1627\u001b[0m \u001b[38;5;28;01mif\u001b[39;00m (\u001b[38;5;129;01mnot\u001b[39;00m fname \u001b[38;5;241m==\u001b[39m \u001b[38;5;124m'\u001b[39m\u001b[38;5;124m.json\u001b[39m\u001b[38;5;124m'\u001b[39m):\n\u001b[1;32m   1628\u001b[0m     \u001b[38;5;28;01mraise\u001b[39;00m \u001b[38;5;167;01mValueError\u001b[39;00m(\u001b[38;5;124mf\u001b[39m\u001b[38;5;124m\"\u001b[39m\u001b[38;5;124mInvalid format: `\u001b[39m\u001b[38;5;132;01m{\u001b[39;00m\u001b[38;5;28mstr\u001b[39m(fname[\u001b[38;5;241m1\u001b[39m:])\u001b[38;5;132;01m}\u001b[39;00m\u001b[38;5;124m`\u001b[39m\u001b[38;5;124m\"\u001b[39m)\n\u001b[0;32m-> 1630\u001b[0m \u001b[38;5;28;01mwith\u001b[39;00m \u001b[43mzopen\u001b[49m\u001b[43m(\u001b[49m\u001b[43mfilename\u001b[49m\u001b[43m,\u001b[49m\u001b[43m \u001b[49m\u001b[38;5;124;43m\"\u001b[39;49m\u001b[38;5;124;43mrt\u001b[39;49m\u001b[38;5;124;43m\"\u001b[39;49m\u001b[43m)\u001b[49m \u001b[38;5;28;01mas\u001b[39;00m fp:\n\u001b[1;32m   1631\u001b[0m     \u001b[38;5;28;01mif\u001b[39;00m \u001b[38;5;124m\"\u001b[39m\u001b[38;5;124mcls\u001b[39m\u001b[38;5;124m\"\u001b[39m \u001b[38;5;129;01mnot\u001b[39;00m \u001b[38;5;129;01min\u001b[39;00m kwargs:\n\u001b[1;32m   1632\u001b[0m         kwargs[\u001b[38;5;124m\"\u001b[39m\u001b[38;5;124mcls\u001b[39m\u001b[38;5;124m\"\u001b[39m] \u001b[38;5;241m=\u001b[39m GSONDecoder\n",
      "File \u001b[0;32m/opt/homebrew/Caskroom/miniconda/base/envs/simsopt2/lib/python3.8/site-packages/monty/io.py:45\u001b[0m, in \u001b[0;36mzopen\u001b[0;34m(filename, *args, **kwargs)\u001b[0m\n\u001b[1;32m     43\u001b[0m \u001b[38;5;28;01mif\u001b[39;00m ext \u001b[38;5;129;01min\u001b[39;00m (\u001b[38;5;124m\"\u001b[39m\u001b[38;5;124m.XZ\u001b[39m\u001b[38;5;124m\"\u001b[39m, \u001b[38;5;124m\"\u001b[39m\u001b[38;5;124m.LZMA\u001b[39m\u001b[38;5;124m\"\u001b[39m):\n\u001b[1;32m     44\u001b[0m     \u001b[38;5;28;01mreturn\u001b[39;00m lzma\u001b[38;5;241m.\u001b[39mopen(filename, \u001b[38;5;241m*\u001b[39margs, \u001b[38;5;241m*\u001b[39m\u001b[38;5;241m*\u001b[39mkwargs)\n\u001b[0;32m---> 45\u001b[0m \u001b[38;5;28;01mreturn\u001b[39;00m \u001b[38;5;28;43mopen\u001b[39;49m\u001b[43m(\u001b[49m\u001b[43mfilename\u001b[49m\u001b[43m,\u001b[49m\u001b[43m \u001b[49m\u001b[38;5;241;43m*\u001b[39;49m\u001b[43margs\u001b[49m\u001b[43m,\u001b[49m\u001b[43m \u001b[49m\u001b[38;5;241;43m*\u001b[39;49m\u001b[38;5;241;43m*\u001b[39;49m\u001b[43mkwargs\u001b[49m\u001b[43m)\u001b[49m\n",
      "\u001b[0;31mFileNotFoundError\u001b[0m: [Errno 2] No such file or directory: './runs/2023-10-18T22:51:12/coils/bs_output.json'"
     ]
    }
   ],
   "source": [
    "# Load data\n",
    "date = '2023-10-18T22:51:12'\n",
    "directory = 'runs/' + date\n",
    "parent_path = '.'\n",
    "this_path = os.path.join(parent_path, directory)\n",
    "os.chdir(parent_path)\n",
    "vmec_dir = os.path.join(this_path, \"vmec\")\n",
    "coil_dir = os.path.join(this_path, \"coils\")\n",
    "figure_path = os.path.join(this_path, 'figures')\n",
    "os.makedirs(figure_path, exist_ok=True)\n",
    "\n",
    "wout_file = os.path.join(this_path, \"wout_final.nc\")\n",
    "vmec = Vmec( wout_file )\n",
    "initial_vmec = Vmec( 'wout_CSSCscaled3.nc' ) \n",
    "initial_bs = load( 'flux_100_bs_cssc_cssc.json' )\n",
    "bs = load(os.path.join(this_path,\"coils/bs_output.json\"))"
   ]
  },
  {
   "cell_type": "code",
   "execution_count": null,
   "id": "7e698be1-a2a5-4909-be19-7906c5dea5bd",
   "metadata": {
    "scrolled": true
   },
   "outputs": [],
   "source": [
    "# Plot VMEC Poincare section\n",
    "fig, ax = plt.subplots(2,3)\n",
    "ns = 10\n",
    "nt = 512\n",
    "surfaces = [SurfaceRZFourier.from_wout(wout_file, s=s) for s in np.linspace(0.0,1,ns)**2]\n",
    "theta = np.linspace(0,2*np.pi,nt)\n",
    "for phi, aa in zip(np.linspace(0,np.pi,6,endpoint=False), ax.flatten()):\n",
    "    for s in surfaces:\n",
    "        R = np.zeros((nt,))\n",
    "        Z = np.zeros((nt,))\n",
    "        mpol = s.mpol\n",
    "        ntor = s.ntor\n",
    "        for mm in range(0,mpol+1):\n",
    "            for nn in range(-ntor,ntor+1):\n",
    "                if mm==0 and nn<0: continue\n",
    "                rc = s.rc[mm,ntor+nn]\n",
    "                zs = s.zs[mm,ntor+nn]\n",
    "                R += rc * np.cos(mm*theta - nn*s.nfp*phi)\n",
    "                Z += zs * np.sin(mm*theta - nn*s.nfp*phi)\n",
    "    \n",
    "        aa.scatter(R,Z,s=1)\n",
    "\n",
    "    aa.set_title('phi = {:.2f}'.format(phi))\n",
    "    aa.set_aspect('equal')\n",
    "plt.savefig(os.path.join(figure_path, 'vmec_poincare_section.png'))"
   ]
  },
  {
   "cell_type": "code",
   "execution_count": null,
   "id": "18dcf0f6-f70b-46e0-aec0-a293d423448f",
   "metadata": {},
   "outputs": [],
   "source": [
    "nfieldlines = 100\n",
    "tmax_fl = 1000\n",
    "degree = 4\n",
    "Rmaj = vmec.boundary.major_radius()\n",
    "r0 = vmec.boundary.minor_radius()\n",
    "vmec_surf_1 = SurfaceRZFourier.from_wout(wout_file) # Expanded vmec surface\n",
    "vmec_surf_1.extend_via_normal(0.1)\n",
    "sc_fieldline = SurfaceClassifier(vmec_surf_1, h=0.01, p=3)\n",
    "\n",
    "def trace_fieldlines(bfield,label):\n",
    "    # Set up initial conditions - \n",
    "    R0 = np.linspace(Rmaj-2*r0, Rmaj+2*r0, nfieldlines)\n",
    "    Z0 = np.zeros(nfieldlines)\n",
    "    phis = [(i/4)*(2*np.pi/vmec.boundary.nfp) for i in range(4)]\n",
    "    fieldlines_tys, fieldlines_phi_hits = compute_fieldlines(\n",
    "        bfield, R0, Z0, tmax=tmax_fl, tol=1e-8,\n",
    "        phis=phis, stopping_criteria=[LevelsetStoppingCriterion(sc_fieldline.dist)])\n",
    "\n",
    "    plot_poincare_data(\n",
    "        fieldlines_phi_hits, phis, \n",
    "        os.path.join(figure_path, f'poincare_fieldline.{date}.png'), \n",
    "        dpi=150,surf=vmec.boundary,mark_lost=False\n",
    "    )\n",
    "    return fieldlines_phi_hits"
   ]
  },
  {
   "cell_type": "code",
   "execution_count": null,
   "id": "4a6d5418-f63c-448f-9851-fa924e03ddfb",
   "metadata": {
    "scrolled": true
   },
   "outputs": [],
   "source": [
    "hits = trace_fieldlines(bs, 'vmec')"
   ]
  },
  {
   "cell_type": "code",
   "execution_count": null,
   "id": "80fade06-6eca-4457-b08a-714e0c982a8e",
   "metadata": {},
   "outputs": [],
   "source": [
    "quasisymmetry_target_surfaces = np.linspace(0,1,32,endpoint=True)\n",
    "qs = QuasisymmetryRatioResidual(vmec, quasisymmetry_target_surfaces, helicity_m=1, helicity_n=0)\n",
    "in_qs = QuasisymmetryRatioResidual(initial_vmec, quasisymmetry_target_surfaces, helicity_m=1, helicity_n=0)\n",
    "\n",
    "plt.figure()\n",
    "plt.plot(quasisymmetry_target_surfaces, in_qs.profile(), label='Initial')\n",
    "plt.plot(quasisymmetry_target_surfaces, qs.profile(), label='Final')\n",
    "plt.legend()\n",
    "plt.xlabel(r'Normalized toroidal flux $\\psi_t/\\psi_a$')\n",
    "plt.ylabel('QS error')\n",
    "\n",
    "\n",
    "plt.savefig(os.path.join(figure_path, 'qs_profile.png'))"
   ]
  },
  {
   "cell_type": "code",
   "execution_count": null,
   "id": "84e496a7-2f45-46c7-a8ab-25d207627b9e",
   "metadata": {},
   "outputs": [],
   "source": [
    "%matplotlib widget\n",
    "fig = plt.figure()\n",
    "ax = fig.add_subplot(projection='3d')\n",
    "for c in bs.coils:\n",
    "    c.curve.plot(ax=ax,close=True,show=False)\n",
    "vmec.boundary.plot(ax=ax,close=True,show=False)\n",
    "ax.set_xlim(-1,1)\n",
    "ax.set_ylim(-1,1)\n",
    "ax.set_zlim(-1,1)"
   ]
  },
  {
   "cell_type": "code",
   "execution_count": null,
   "id": "5b4b1039-c6b4-440a-9df6-ad0fd5e0600f",
   "metadata": {},
   "outputs": [],
   "source": [
    "fig = plt.figure()\n",
    "ax = fig.add_subplot(projection='3d')\n",
    "initial_bs.coils[0].curve.plot(ax=ax, close=True, show=False, label='Initial')\n",
    "bs.coils[0].curve.plot(ax=ax, close=True, show=False, label='Final')\n",
    "plt.legend()\n",
    "\n",
    "plt.savefig(os.path.join(figure_path, 'il_coil_before_after.png'))"
   ]
  },
  {
   "cell_type": "code",
   "execution_count": null,
   "id": "ab0d99fd-c6da-487e-bcf7-c11a6a7d99fc",
   "metadata": {},
   "outputs": [],
   "source": [
    "surf = vmec.boundary\n",
    "theta = surf.quadpoints_theta\n",
    "phi = surf.quadpoints_phi\n",
    "ntheta = theta.size\n",
    "nphi = phi.size\n",
    "\n",
    "fig, axs = plt.subplots(nrows=1,ncols=2, figsize=(12,5))\n",
    "for ax, bb in zip(axs, [initial_bs, bs]):\n",
    "    bb.set_points(surf.gamma().reshape((-1,3)))\n",
    "    Bdotn = np.sum(bs.B().reshape((nphi, ntheta, 3)) * surf.unitnormal(), axis=2)\n",
    "    ax.set_ylabel(r'$\\phi$')\n",
    "    ax.set_xlabel(r'$\\theta$')\n",
    "    c = ax.contourf(theta,phi,Bdotn)\n",
    "    plt.colorbar(c)\n",
    "\n",
    "\n",
    "axs[0].set_title(r'Initial $\\mathbf{B}\\cdot\\hat{n}$ on CSSC surface')\n",
    "axs[1].set_title(r'Final $\\mathbf{B}\\cdot\\hat{n}$ on CSSC surface')\n",
    "plt.savefig(os.path.join(figure_path, 'normal_field_error.png'))"
   ]
  },
  {
   "cell_type": "code",
   "execution_count": 3,
   "id": "3eb5a458-33af-4b91-b8fa-0411d498d261",
   "metadata": {},
   "outputs": [
    {
     "ename": "AttributeError",
     "evalue": "'NoneType' object has no attribute 'message'",
     "output_type": "error",
     "traceback": [
      "\u001b[0;31m---------------------------------------------------------------------------\u001b[0m",
      "\u001b[0;31mAttributeError\u001b[0m                            Traceback (most recent call last)",
      "Cell \u001b[0;32mIn[3], line 5\u001b[0m\n\u001b[1;32m      3\u001b[0m \u001b[38;5;28;01mwith\u001b[39;00m \u001b[38;5;28mopen\u001b[39m(os\u001b[38;5;241m.\u001b[39mpath\u001b[38;5;241m.\u001b[39mjoin(this_path, \u001b[38;5;124m'\u001b[39m\u001b[38;5;124minput.pckl\u001b[39m\u001b[38;5;124m'\u001b[39m), \u001b[38;5;124m'\u001b[39m\u001b[38;5;124mrb\u001b[39m\u001b[38;5;124m'\u001b[39m) \u001b[38;5;28;01mas\u001b[39;00m f:\n\u001b[1;32m      4\u001b[0m     \u001b[38;5;28minput\u001b[39m \u001b[38;5;241m=\u001b[39m pickle\u001b[38;5;241m.\u001b[39mload(f)\n\u001b[0;32m----> 5\u001b[0m \u001b[43moutputs\u001b[49m\u001b[43m[\u001b[49m\u001b[38;5;124;43m'\u001b[39;49m\u001b[38;5;124;43mresult\u001b[39;49m\u001b[38;5;124;43m'\u001b[39;49m\u001b[43m]\u001b[49m\u001b[38;5;241;43m.\u001b[39;49m\u001b[43mmessage\u001b[49m\n",
      "\u001b[0;31mAttributeError\u001b[0m: 'NoneType' object has no attribute 'message'"
     ]
    }
   ],
   "source": [
    "with open(os.path.join(this_path, 'outputs.pckl'), 'rb') as f:\n",
    "    outputs = pickle.load(f)\n",
    "with open(os.path.join(this_path, 'input.pckl'), 'rb') as f:\n",
    "    input = pickle.load(f)\n",
    "outputs['result'].message"
   ]
  },
  {
   "cell_type": "code",
   "execution_count": null,
   "id": "e6272d6a-2015-484d-a78e-5fca7000c80f",
   "metadata": {},
   "outputs": [],
   "source": [
    "plt.figure()\n",
    "plt.semilogy(outputs['J'],linewidth=3,label='J')\n",
    "plt.semilogy(outputs['Jplasma'],'--',linewidth=3,label='Jplasma')\n",
    "plt.semilogy(outputs['Jcoils'],linewidth=3,label='Jcoils')\n",
    "plt.gca().set_ylim(top=1e5)\n",
    "plt.legend()\n",
    "plt.savefig(os.path.join(figure_path, 'objective_function.png'))"
   ]
  },
  {
   "cell_type": "code",
   "execution_count": null,
   "id": "509dfd53-7e26-43f1-bcd2-3414c8e88e3f",
   "metadata": {},
   "outputs": [],
   "source": [
    "fig, axs = plt.subplots(1,3,figsize=(12,4))\n",
    "nsteps = len(outputs['mean_iota'])\n",
    "axs[0].plot(outputs['iota_axis'],label=r'$\\iota_{axis}$')\n",
    "axs[0].plot(outputs['iota_edge'],label=r'$\\iota_{edge}$')\n",
    "axs[0].plot(outputs['mean_iota'],label=r'$\\bar\\iota$')\n",
    "axs[0].plot([0,nsteps], np.array([1,1])*input['vmec']['target']['iota'], 'k--', linewidth=2, label='target')\n",
    "axs[0].legend()\n",
    "axs[0].set_title('Rotational transform')\n",
    "\n",
    "axs[1].plot(outputs['aspect'])\n",
    "axs[1].plot([0,nsteps], np.array([1,1])*input['vmec']['target']['aspect_ratio'], 'k--', label='target')\n",
    "axs[1].legend()\n",
    "axs[1].set_title('Aspect ratio')\n",
    "\n",
    "total = []\n",
    "nphi = 64\n",
    "ntheta = 63\n",
    "ns = input['vmec']['target']['qa_surface'].size\n",
    "profile = np.zeros((ns,nsteps))\n",
    "for ii, qs in enumerate(outputs['QSresiduals']):\n",
    "    try:\n",
    "        residuals3d = qs.reshape((ns,ntheta,nphi))\n",
    "        profile[:,ii] = np.sum(residuals3d * residuals3d, axis=(1, 2))\n",
    "        total.append(np.sum(qs * qs))\n",
    "    except BaseException as e:\n",
    "        print(e)\n",
    "        profile[:,ii] = np.nan\n",
    "        total.append(np.nan)\n",
    "axs[2].semilogy(total, label='total')\n",
    "for isurf in range(0,ns):\n",
    "    axs[2].semilogy(profile[isurf,:],label=f'surf {isurf}')\n",
    "axs[2].legend(bbox_to_anchor=(1.05, 1.0), loc='upper left')\n",
    "axs[2].set_title('Quasisymmetry')\n",
    "\n",
    "plt.savefig(os.path.join(figure_path, 'plasma_targets.png'))"
   ]
  },
  {
   "cell_type": "code",
   "execution_count": null,
   "id": "eecf64d2-f3b8-4d11-8163-fd95c627a133",
   "metadata": {},
   "outputs": [],
   "source": [
    "fig, axs=plt.subplots(2,3, figsize=(12,8))\n",
    "axs[0,0].semilogy(outputs['QuadFlux'])\n",
    "axs[0,0].set_title('Quadratic flux')\n",
    "\n",
    "axs[0,1].plot(outputs['min_CS'])\n",
    "axs[0,1].set_title('Coil-surface distance')\n",
    "\n",
    "axs[0,2].plot(outputs['min_CC'])\n",
    "axs[0,2].set_title('Coil-coil distance')\n",
    "\n",
    "axs[1,0].plot(outputs['IL_length'])\n",
    "for l in outputs['WP_length']:\n",
    "    axs[1,0].plot(l)\n",
    "axs[1,0].set_title('Coil length')\n",
    "\n",
    "axs[1,1].plot(outputs['IL_msc'])\n",
    "for l in outputs['WP_msc']:\n",
    "    axs[1,1].plot(l)\n",
    "axs[1,1].set_title('Coil mean squared curvature')\n",
    "\n",
    "axs[1,2].plot(outputs['IL_max_curvature'])\n",
    "for l in outputs['WP_max_curvature']:\n",
    "    axs[1,2].plot(l)\n",
    "axs[1,2].set_title('Coil max curvature penalty')\n",
    "\n",
    "plt.savefig(os.path.join(figure_path, 'coil_targets.png'))"
   ]
  },
  {
   "cell_type": "code",
   "execution_count": null,
   "id": "26f74063-6d8c-47a5-b207-92c6fe3981f2",
   "metadata": {},
   "outputs": [],
   "source": []
  }
 ],
 "metadata": {
  "kernelspec": {
   "display_name": "Python 3 (ipykernel)",
   "language": "python",
   "name": "python3"
  },
  "language_info": {
   "codemirror_mode": {
    "name": "ipython",
    "version": 3
   },
   "file_extension": ".py",
   "mimetype": "text/x-python",
   "name": "python",
   "nbconvert_exporter": "python",
   "pygments_lexer": "ipython3",
   "version": "3.8.16"
  }
 },
 "nbformat": 4,
 "nbformat_minor": 5
}
